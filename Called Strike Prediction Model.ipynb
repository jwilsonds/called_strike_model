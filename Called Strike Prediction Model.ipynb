{
 "cells": [
  {
   "cell_type": "code",
   "execution_count": 1,
   "metadata": {},
   "outputs": [],
   "source": [
    "import pandas as pd\n",
    "import numpy as np\n",
    "import matplotlib.pyplot as plt\n",
    "import seaborn as sns"
   ]
  },
  {
   "cell_type": "code",
   "execution_count": 3,
   "metadata": {},
   "outputs": [],
   "source": [
    "data = pd.read_csv('/Users/jeremiahwilson/Downloads/pitch_data_one_month.csv')"
   ]
  },
  {
   "cell_type": "code",
   "execution_count": 13,
   "metadata": {},
   "outputs": [],
   "source": [
    "#dropping old index column\n",
    "data = data.drop('Unnamed: 0', axis = 1)"
   ]
  },
  {
   "cell_type": "code",
   "execution_count": 17,
   "metadata": {},
   "outputs": [
    {
     "data": {
      "text/plain": [
       "Index(['GAME_ID', 'PA_IN_GAME', 'PITCH_IN_PA', 'CATCHER_ID', 'PITCHER_ID',\n",
       "       'BATTER_ID', 'UMPIRE_ID', 'BALLPARK_ID', 'BALLS', 'STRIKES', 'OUTS',\n",
       "       'INNING', 'INNING_HALF', 'AWAY_TEAM_SCORE', 'HOME_TEAM_SCORE',\n",
       "       'RUNNER_ON_1B', 'RUNNER_ON_2B', 'RUNNER_ON_3B', 'PITCH_RESULT',\n",
       "       'EVENT_RESULT', 'BATTER_SIDE', 'PITCHER_SIDE', 'PITCH_TYPE',\n",
       "       'PITCH_SPEED', 'PITCH_LOCATION_SIDE', 'PITCH_LOCATION_HEIGHT',\n",
       "       'STRIKE_ZONE_TOP', 'STRIKE_ZONE_BOTTOM', 'SPIN_RATE',\n",
       "       'INDUCED_VERTICAL_BREAK', 'HORIZONTAL_BREAK', 'VERTICAL_APPROACH_ANGLE',\n",
       "       'HORIZONTAL_APPROACH_ANGLE', 'RELEASE_SIDE', 'RELEASE_HEIGHT',\n",
       "       'RELEASE_EXTENSION', 'EXIT_VELOCITY', 'LAUNCH_ANGLE', 'SPRAY_ANGLE'],\n",
       "      dtype='object')"
      ]
     },
     "execution_count": 17,
     "metadata": {},
     "output_type": "execute_result"
    }
   ],
   "source": [
    "data.columns"
   ]
  },
  {
   "cell_type": "code",
   "execution_count": 21,
   "metadata": {},
   "outputs": [
    {
     "data": {
      "text/plain": [
       "array(['InPlay', 'StrikeSwinging', 'BallCalled', 'FoulBall',\n",
       "       'StrikeCalled', 'HitByPitch', nan, 'Undefined'], dtype=object)"
      ]
     },
     "execution_count": 21,
     "metadata": {},
     "output_type": "execute_result"
    }
   ],
   "source": [
    "data['PITCH_RESULT'].unique()"
   ]
  },
  {
   "cell_type": "code",
   "execution_count": 22,
   "metadata": {},
   "outputs": [],
   "source": [
    "#getting all the relevant pitches that were called strikes or balls\n",
    "relevant_data = data.loc[data['PITCH_RESULT'].isin(['BallCalled', 'StrikeCalled'])]"
   ]
  },
  {
   "cell_type": "code",
   "execution_count": 25,
   "metadata": {},
   "outputs": [
    {
     "data": {
      "text/plain": [
       "(65925, 39)"
      ]
     },
     "execution_count": 25,
     "metadata": {},
     "output_type": "execute_result"
    }
   ],
   "source": [
    "relevant_data.shape"
   ]
  },
  {
   "cell_type": "code",
   "execution_count": 28,
   "metadata": {},
   "outputs": [
    {
     "name": "stderr",
     "output_type": "stream",
     "text": [
      "/Users/jeremiahwilson/anaconda3/lib/python3.7/site-packages/ipykernel_launcher.py:2: SettingWithCopyWarning: \n",
      "A value is trying to be set on a copy of a slice from a DataFrame.\n",
      "Try using .loc[row_indexer,col_indexer] = value instead\n",
      "\n",
      "See the caveats in the documentation: http://pandas.pydata.org/pandas-docs/stable/indexing.html#indexing-view-versus-copy\n",
      "  \n"
     ]
    }
   ],
   "source": [
    "#making column to denote numerical values for pitch result. 0 for ball, 1 for strike\n",
    "relevant_data['OUTCOME'] = 0\n",
    "relevant_data.loc[relevant_data['PITCH_RESULT'] == 'StrikeCalled', 'OUTCOME'] = 1"
   ]
  },
  {
   "cell_type": "code",
   "execution_count": 32,
   "metadata": {},
   "outputs": [
    {
     "data": {
      "text/plain": [
       "202"
      ]
     },
     "execution_count": 32,
     "metadata": {},
     "output_type": "execute_result"
    }
   ],
   "source": [
    "#checking to see if any rows have missing pitch location data\n",
    "relevant_data['PITCH_LOCATION_SIDE'].isna().sum()"
   ]
  },
  {
   "cell_type": "code",
   "execution_count": 33,
   "metadata": {},
   "outputs": [
    {
     "data": {
      "text/plain": [
       "202"
      ]
     },
     "execution_count": 33,
     "metadata": {},
     "output_type": "execute_result"
    }
   ],
   "source": [
    "relevant_data['PITCH_LOCATION_HEIGHT'].isna().sum()"
   ]
  },
  {
   "cell_type": "code",
   "execution_count": 37,
   "metadata": {},
   "outputs": [],
   "source": [
    "#getting dataframe without missing pitch location data\n",
    "relevant_data2 = relevant_data.loc[relevant_data['PITCH_LOCATION_HEIGHT'].notnull() & relevant_data['PITCH_LOCATION_SIDE'].notnull()]"
   ]
  },
  {
   "cell_type": "code",
   "execution_count": 44,
   "metadata": {},
   "outputs": [],
   "source": [
    "#making a list of the column names of the columns that will be needed for the model\n",
    "columns = ['OUTCOME', 'UMPIRE_ID', 'BALLS', 'STRIKES', 'BATTER_SIDE', 'PITCHER_SIDE', 'PITCH_SPEED','PITCH_LOCATION_SIDE','PITCH_LOCATION_HEIGHT','STRIKE_ZONE_TOP','STRIKE_ZONE_BOTTOM','INDUCED_VERTICAL_BREAK','HORIZONTAL_BREAK']"
   ]
  },
  {
   "cell_type": "code",
   "execution_count": 69,
   "metadata": {},
   "outputs": [],
   "source": [
    "#getting a dataframe with only relevant columns\n",
    "model_data = relevant_data2[columns]"
   ]
  },
  {
   "cell_type": "code",
   "execution_count": 70,
   "metadata": {},
   "outputs": [
    {
     "data": {
      "text/plain": [
       "(65723, 13)"
      ]
     },
     "execution_count": 70,
     "metadata": {},
     "output_type": "execute_result"
    }
   ],
   "source": [
    "model_data.shape"
   ]
  },
  {
   "cell_type": "code",
   "execution_count": 71,
   "metadata": {},
   "outputs": [],
   "source": [
    "#dropping any remaining rows with missing values\n",
    "model_data = model_data.dropna(axis = 0)"
   ]
  },
  {
   "cell_type": "code",
   "execution_count": 72,
   "metadata": {},
   "outputs": [
    {
     "data": {
      "text/plain": [
       "(65722, 13)"
      ]
     },
     "execution_count": 72,
     "metadata": {},
     "output_type": "execute_result"
    }
   ],
   "source": [
    "#one row was removed\n",
    "model_data.shape"
   ]
  },
  {
   "cell_type": "code",
   "execution_count": 73,
   "metadata": {},
   "outputs": [],
   "source": [
    "#making the umpire ID column categorical\n",
    "model_data['UMPIRE_ID'] = model_data['UMPIRE_ID'].astype('category')"
   ]
  },
  {
   "cell_type": "code",
   "execution_count": 74,
   "metadata": {},
   "outputs": [],
   "source": [
    "#one hot encoding our categorical variables to prepare for model training\n",
    "one_hot_bside = pd.get_dummies(model_data['BATTER_SIDE'], prefix = 'BATS_')\n",
    "one_hot_pside = pd.get_dummies(model_data['PITCHER_SIDE'], prefix = 'PITCHES_')\n",
    "one_hot_umpID = pd.get_dummies(model_data['UMPIRE_ID'], prefix = 'UMP_')"
   ]
  },
  {
   "cell_type": "code",
   "execution_count": 75,
   "metadata": {},
   "outputs": [],
   "source": [
    "#dropping old categorical columns\n",
    "model_data = model_data.drop(['BATTER_SIDE', 'PITCHER_SIDE','UMPIRE_ID'], axis = 1)"
   ]
  },
  {
   "cell_type": "code",
   "execution_count": 76,
   "metadata": {},
   "outputs": [],
   "source": [
    "#joining with our new one hot encoded columns\n",
    "final_df = model_data.join([one_hot_bside, one_hot_pside, one_hot_umpID])"
   ]
  },
  {
   "cell_type": "code",
   "execution_count": 83,
   "metadata": {},
   "outputs": [],
   "source": [
    "#separating features and outcome variable\n",
    "x = final_df.drop('OUTCOME', axis = 1).values\n",
    "y = final_df['OUTCOME']"
   ]
  },
  {
   "cell_type": "code",
   "execution_count": 84,
   "metadata": {},
   "outputs": [],
   "source": [
    "y = y.astype(int)"
   ]
  },
  {
   "cell_type": "code",
   "execution_count": 89,
   "metadata": {},
   "outputs": [],
   "source": [
    "#getting our ML libraries\n",
    "from sklearn import preprocessing\n",
    "from sklearn.model_selection import train_test_split\n",
    "from sklearn import metrics\n",
    "from sklearn.tree import DecisionTreeClassifier\n",
    "from sklearn.model_selection import KFold\n",
    "from sklearn.model_selection import cross_val_score"
   ]
  },
  {
   "cell_type": "code",
   "execution_count": 90,
   "metadata": {},
   "outputs": [],
   "source": [
    "#using kfold method for model training\n",
    "folds = KFold(n_splits = 10, shuffle = True)"
   ]
  },
  {
   "cell_type": "code",
   "execution_count": 91,
   "metadata": {},
   "outputs": [],
   "source": [
    "#initializing our model\n",
    "import lightgbm as lgb\n",
    "clf = lgb.LGBMClassifier()"
   ]
  },
  {
   "cell_type": "code",
   "execution_count": 92,
   "metadata": {},
   "outputs": [],
   "source": [
    "result = cross_val_score(clf, x, y, cv = folds)"
   ]
  },
  {
   "cell_type": "code",
   "execution_count": 94,
   "metadata": {},
   "outputs": [
    {
     "data": {
      "text/plain": [
       "0.9307842356440924"
      ]
     },
     "execution_count": 94,
     "metadata": {},
     "output_type": "execute_result"
    }
   ],
   "source": [
    "#checking out the average model performance with 10 folds\n",
    "result.mean()"
   ]
  },
  {
   "cell_type": "code",
   "execution_count": 129,
   "metadata": {},
   "outputs": [],
   "source": [
    "#trying some hyperparameter tuning\n",
    "clf2 = lgb.LGBMClassifier(boosting_type='gbdt',\n",
    "    objective = 'binary',\n",
    "    learning_rate = 0.09,\n",
    "    max_depth = 6,\n",
    "    num_leaves = 25,\n",
    "    n_estimators = 195)"
   ]
  },
  {
   "cell_type": "code",
   "execution_count": 130,
   "metadata": {},
   "outputs": [],
   "source": [
    "result2 = cross_val_score(clf2, x, y, cv = folds)"
   ]
  },
  {
   "cell_type": "code",
   "execution_count": 131,
   "metadata": {},
   "outputs": [
    {
     "data": {
      "text/plain": [
       "0.9312864029325969"
      ]
     },
     "execution_count": 131,
     "metadata": {},
     "output_type": "execute_result"
    }
   ],
   "source": [
    "#slightly better accuracy with this model\n",
    "result2.mean()"
   ]
  },
  {
   "cell_type": "code",
   "execution_count": 133,
   "metadata": {},
   "outputs": [],
   "source": [
    "#splitting our test and training data\n",
    "X_train, X_test, y_train, y_test = train_test_split(x,y,test_size = 0.2, random_state = 0)"
   ]
  },
  {
   "cell_type": "code",
   "execution_count": 135,
   "metadata": {},
   "outputs": [
    {
     "data": {
      "text/plain": [
       "LGBMClassifier(boosting_type='gbdt', class_weight=None, colsample_bytree=1.0,\n",
       "               importance_type='split', learning_rate=0.09, max_depth=6,\n",
       "               min_child_samples=20, min_child_weight=0.001, min_split_gain=0.0,\n",
       "               n_estimators=195, n_jobs=-1, num_leaves=25, objective='binary',\n",
       "               random_state=None, reg_alpha=0.0, reg_lambda=0.0, silent=True,\n",
       "               subsample=1.0, subsample_for_bin=200000, subsample_freq=0)"
      ]
     },
     "execution_count": 135,
     "metadata": {},
     "output_type": "execute_result"
    }
   ],
   "source": [
    "#training our model\n",
    "clf2.fit(X_train, y_train)"
   ]
  },
  {
   "cell_type": "code",
   "execution_count": 149,
   "metadata": {},
   "outputs": [],
   "source": [
    "#predicting\n",
    "y_pred=clf2.predict(X_test)"
   ]
  },
  {
   "cell_type": "code",
   "execution_count": 150,
   "metadata": {},
   "outputs": [],
   "source": [
    "#getting our accuracy\n",
    "accuracy = metrics.accuracy_score(y_pred, y_test)"
   ]
  },
  {
   "cell_type": "code",
   "execution_count": 151,
   "metadata": {},
   "outputs": [
    {
     "data": {
      "text/plain": [
       "0.9301635602890833"
      ]
     },
     "execution_count": 151,
     "metadata": {},
     "output_type": "execute_result"
    }
   ],
   "source": [
    "accuracy"
   ]
  },
  {
   "cell_type": "code",
   "execution_count": 152,
   "metadata": {},
   "outputs": [],
   "source": [
    "#predicting the training data\n",
    "y_pred_train = clf2.predict(X_train)"
   ]
  },
  {
   "cell_type": "code",
   "execution_count": 153,
   "metadata": {},
   "outputs": [
    {
     "name": "stdout",
     "output_type": "stream",
     "text": [
      "Training set score: 0.9439\n",
      "Test set score: 0.9302\n"
     ]
    }
   ],
   "source": [
    "print('Training set score: {:.4f}'.format(clf2.score(X_train, y_train)))\n",
    "\n",
    "print('Test set score: {:.4f}'.format(clf2.score(X_test, y_test)))"
   ]
  },
  {
   "cell_type": "code",
   "execution_count": 154,
   "metadata": {},
   "outputs": [
    {
     "name": "stdout",
     "output_type": "stream",
     "text": [
      "Confusion matrix\n",
      "\n",
      " [[8504  472]\n",
      " [ 446 3723]]\n",
      "\n",
      "True Positives(TP) =  8504\n",
      "\n",
      "True Negatives(TN) =  3723\n",
      "\n",
      "False Positives(FP) =  472\n",
      "\n",
      "False Negatives(FN) =  446\n"
     ]
    }
   ],
   "source": [
    "#getting confusion matrix\n",
    "cm = metrics.confusion_matrix(y_test, y_pred)\n",
    "print('Confusion matrix\\n\\n',cm)\n",
    "print('\\nTrue Positives(TP) = ', cm[0,0])\n",
    "print('\\nTrue Negatives(TN) = ', cm[1,1])\n",
    "print('\\nFalse Positives(FP) = ', cm[0,1])\n",
    "print('\\nFalse Negatives(FN) = ', cm[1,0])"
   ]
  },
  {
   "cell_type": "code",
   "execution_count": 193,
   "metadata": {},
   "outputs": [
    {
     "name": "stdout",
     "output_type": "stream",
     "text": [
      "              precision    recall  f1-score   support\n",
      "\n",
      "           0       0.95      0.95      0.95      8976\n",
      "           1       0.89      0.89      0.89      4169\n",
      "\n",
      "    accuracy                           0.93     13145\n",
      "   macro avg       0.92      0.92      0.92     13145\n",
      "weighted avg       0.93      0.93      0.93     13145\n",
      "\n"
     ]
    }
   ],
   "source": [
    "#getting precision, recall and other performance metrics\n",
    "print(metrics.classification_report(y_test, y_pred))"
   ]
  },
  {
   "cell_type": "code",
   "execution_count": 194,
   "metadata": {},
   "outputs": [],
   "source": [
    "#predicting whole dataset now\n",
    "whole_pred = clf2.predict(x)"
   ]
  },
  {
   "cell_type": "code",
   "execution_count": 195,
   "metadata": {},
   "outputs": [],
   "source": [
    "#getting predicted probabilities into dataframe\n",
    "pred_prob_df = pd.DataFrame(data = clf2.predict_proba(x), columns = ['ball_probablility',\n",
    "                                                                       'strike_probability'])"
   ]
  },
  {
   "cell_type": "code",
   "execution_count": 196,
   "metadata": {},
   "outputs": [],
   "source": [
    "#getting called strike probability into our df\n",
    "final_df['CS_PROB'] = pred_prob_df['strike_probability']"
   ]
  },
  {
   "cell_type": "code",
   "execution_count": 197,
   "metadata": {},
   "outputs": [],
   "source": [
    "#getting called strike probability into our df\n",
    "final_df.reset_index(drop=True, inplace=True)\n",
    "final_df['CS_PROB'] = pred_prob_df['strike_probability']"
   ]
  },
  {
   "cell_type": "code",
   "execution_count": 202,
   "metadata": {},
   "outputs": [
    {
     "data": {
      "image/png": "[encoded data removed]",
      "text/plain": [
       "<Figure size 432x288 with 2 Axes>"
      ]
     },
     "metadata": {
      "needs_background": "light"
     },
     "output_type": "display_data"
    }
   ],
   "source": [
    "#creating a hexbin plot that shows how called strike probability changes based on pitch location\n",
    "import matplotlib.patches as patches\n",
    "\n",
    "#getting average measurements for top of strikezone and bottom of strikezone\n",
    "sz_top = final_df['STRIKE_ZONE_TOP'].mean()\n",
    "sz_bot = final_df['STRIKE_ZONE_BOTTOM'].mean()\n",
    "\n",
    "#creating strikezone patch\n",
    "strikezone = patches.Rectangle((-0.70833,sz_bot), width= 17/12, height = (sz_top-sz_bot), fill=False)\n",
    "\n",
    "fig, ax = plt.subplots()\n",
    "graph = ax.hexbin(final_df['PITCH_LOCATION_SIDE'],final_df['PITCH_LOCATION_HEIGHT'], C =final_df['CS_PROB'], \n",
    "              gridsize=(50), vmax = 1,vmin =0, cmap = 'Reds')\n",
    "ax.add_patch(strikezone)\n",
    "plt.xlim([-2,2])\n",
    "plt.ylim([1,4])\n",
    "ax.set_title('Called Strike Probability based on location')\n",
    "cbar = fig.colorbar(graph)\n",
    "cbar.set_label('Called Strike Probability')"
   ]
  },
  {
   "cell_type": "code",
   "execution_count": 204,
   "metadata": {},
   "outputs": [],
   "source": [
    "relevant_data2 = relevant_data2.loc[relevant_data2['INDUCED_VERTICAL_BREAK'].notnull()]"
   ]
  },
  {
   "cell_type": "code",
   "execution_count": 205,
   "metadata": {},
   "outputs": [
    {
     "data": {
      "text/plain": [
       "(65722, 40)"
      ]
     },
     "execution_count": 205,
     "metadata": {},
     "output_type": "execute_result"
    }
   ],
   "source": [
    "relevant_data2.shape"
   ]
  },
  {
   "cell_type": "code",
   "execution_count": 208,
   "metadata": {},
   "outputs": [],
   "source": [
    "relevant_data2.reset_index(drop=True,inplace=True)"
   ]
  },
  {
   "cell_type": "code",
   "execution_count": 209,
   "metadata": {},
   "outputs": [],
   "source": [
    "relevant_data2['CS_PROB'] = final_df['CS_PROB']"
   ]
  },
  {
   "cell_type": "code",
   "execution_count": 216,
   "metadata": {},
   "outputs": [],
   "source": [
    "#making a new column that gives the expected call of ball or strike, 0 for ball, 1 for strike\n",
    "#if called strike probability is less than 0.5 we set the expected call to be 0. Otherwise it is 1\n",
    "relevant_data2['EXPECTED_CALL'] = 1\n",
    "relevant_data2.loc[relevant_data2['CS_PROB'] < 0.5, 'EXPECTED_CALL'] = 0"
   ]
  },
  {
   "cell_type": "code",
   "execution_count": 220,
   "metadata": {},
   "outputs": [],
   "source": [
    "#getting a dataframe sorted by pitcher ID to compare the actual outcomes versus expected outcome\n",
    "actual_vs_exp = relevant_data2.groupby('PITCHER_ID').sum()[['OUTCOME','EXPECTED_CALL']]"
   ]
  },
  {
   "cell_type": "code",
   "execution_count": 221,
   "metadata": {},
   "outputs": [],
   "source": [
    "#making a column of how many calls a given pitcher lost\n",
    "actual_vs_exp['CALLS_LOST'] = actual_vs_exp['EXPECTED_CALL'] - actual_vs_exp['OUTCOME']"
   ]
  },
  {
   "cell_type": "code",
   "execution_count": 226,
   "metadata": {},
   "outputs": [],
   "source": [
    "#sorting by most lost calls\n",
    "ranked_pitchers = actual_vs_exp.sort_values('CALLS_LOST', ascending = False)"
   ]
  },
  {
   "cell_type": "code",
   "execution_count": 227,
   "metadata": {},
   "outputs": [
    {
     "data": {
      "text/html": [
       "<div>\n",
       "<style scoped>\n",
       "    .dataframe tbody tr th:only-of-type {\n",
       "        vertical-align: middle;\n",
       "    }\n",
       "\n",
       "    .dataframe tbody tr th {\n",
       "        vertical-align: top;\n",
       "    }\n",
       "\n",
       "    .dataframe thead th {\n",
       "        text-align: right;\n",
       "    }\n",
       "</style>\n",
       "<table border=\"1\" class=\"dataframe\">\n",
       "  <thead>\n",
       "    <tr style=\"text-align: right;\">\n",
       "      <th></th>\n",
       "      <th>OUTCOME</th>\n",
       "      <th>EXPECTED_CALL</th>\n",
       "      <th>CALLS_LOST</th>\n",
       "    </tr>\n",
       "    <tr>\n",
       "      <th>PITCHER_ID</th>\n",
       "      <th></th>\n",
       "      <th></th>\n",
       "      <th></th>\n",
       "    </tr>\n",
       "  </thead>\n",
       "  <tbody>\n",
       "    <tr>\n",
       "      <th>192</th>\n",
       "      <td>77</td>\n",
       "      <td>90</td>\n",
       "      <td>13</td>\n",
       "    </tr>\n",
       "    <tr>\n",
       "      <th>356</th>\n",
       "      <td>72</td>\n",
       "      <td>85</td>\n",
       "      <td>13</td>\n",
       "    </tr>\n",
       "    <tr>\n",
       "      <th>288</th>\n",
       "      <td>74</td>\n",
       "      <td>85</td>\n",
       "      <td>11</td>\n",
       "    </tr>\n",
       "    <tr>\n",
       "      <th>497</th>\n",
       "      <td>68</td>\n",
       "      <td>78</td>\n",
       "      <td>10</td>\n",
       "    </tr>\n",
       "    <tr>\n",
       "      <th>399</th>\n",
       "      <td>37</td>\n",
       "      <td>47</td>\n",
       "      <td>10</td>\n",
       "    </tr>\n",
       "    <tr>\n",
       "      <th>398</th>\n",
       "      <td>97</td>\n",
       "      <td>107</td>\n",
       "      <td>10</td>\n",
       "    </tr>\n",
       "    <tr>\n",
       "      <th>456</th>\n",
       "      <td>65</td>\n",
       "      <td>74</td>\n",
       "      <td>9</td>\n",
       "    </tr>\n",
       "    <tr>\n",
       "      <th>57</th>\n",
       "      <td>88</td>\n",
       "      <td>97</td>\n",
       "      <td>9</td>\n",
       "    </tr>\n",
       "    <tr>\n",
       "      <th>424</th>\n",
       "      <td>39</td>\n",
       "      <td>48</td>\n",
       "      <td>9</td>\n",
       "    </tr>\n",
       "    <tr>\n",
       "      <th>353</th>\n",
       "      <td>90</td>\n",
       "      <td>98</td>\n",
       "      <td>8</td>\n",
       "    </tr>\n",
       "  </tbody>\n",
       "</table>\n",
       "</div>"
      ],
      "text/plain": [
       "            OUTCOME  EXPECTED_CALL  CALLS_LOST\n",
       "PITCHER_ID                                    \n",
       "192              77             90          13\n",
       "356              72             85          13\n",
       "288              74             85          11\n",
       "497              68             78          10\n",
       "399              37             47          10\n",
       "398              97            107          10\n",
       "456              65             74           9\n",
       "57               88             97           9\n",
       "424              39             48           9\n",
       "353              90             98           8"
      ]
     },
     "execution_count": 227,
     "metadata": {},
     "output_type": "execute_result"
    }
   ],
   "source": [
    "#top ten pitchers with most strikes lost\n",
    "ranked_pitchers[0:10]"
   ]
  },
  {
   "cell_type": "code",
   "execution_count": 234,
   "metadata": {},
   "outputs": [
    {
     "data": {
      "text/plain": [
       "array(['SL', 'FB', 'CF', 'CH', 'SI', 'SF', 'CB', 'UN', 'PO'], dtype=object)"
      ]
     },
     "execution_count": 234,
     "metadata": {},
     "output_type": "execute_result"
    }
   ],
   "source": [
    "relevant_data2['PITCH_TYPE'].unique()"
   ]
  },
  {
   "cell_type": "code",
   "execution_count": 247,
   "metadata": {},
   "outputs": [],
   "source": [
    "#making a function that plots pitch probability based on pitch location of certain pitch type and arm side\n",
    "def pitch_prob_plot(pitch_type, arm_side):\n",
    "    pitches = relevant_data2.loc[(relevant_data2['PITCH_TYPE'] == pitch_type) & (relevant_data2['PITCHER_SIDE'] == arm_side)]\n",
    "    title = 'Called Strike Probability of ' + arm_side + 'HP ' + 'Throwing ' + pitch_type\n",
    "    \n",
    "    #getting the strikezone measurements\n",
    "    sz_top2 = pitches['STRIKE_ZONE_TOP'].mean()\n",
    "    sz_bot2 = pitches['STRIKE_ZONE_BOTTOM'].mean()\n",
    "    #strikezone patch\n",
    "    strikezone2 = patches.Rectangle((-0.70833,sz_bot), width= 17/12, height = (sz_top-sz_bot), fill=False)\n",
    "    fig2, ax2 = plt.subplots()\n",
    "    graph2 = ax2.hexbin(pitches['PITCH_LOCATION_SIDE'],pitches['PITCH_LOCATION_HEIGHT'], C = pitches['CS_PROB'],\n",
    "                       gridsize = 35, vmax = 1,vmin =0, cmap = 'Reds')\n",
    "    ax2.add_patch(strikezone2)\n",
    "    plt.xlim([-2,2])\n",
    "    plt.ylim([1,4])\n",
    "    ax2.set_title(title)\n",
    "    cbar = fig2.colorbar(graph2)\n",
    "    cbar.set_label('Called Strike Probability')\n",
    "    return graph2"
   ]
  },
  {
   "cell_type": "code",
   "execution_count": 252,
   "metadata": {},
   "outputs": [
    {
     "data": {
      "text/plain": [
       "<matplotlib.collections.PolyCollection at 0x7f985f1f9048>"
      ]
     },
     "execution_count": 252,
     "metadata": {},
     "output_type": "execute_result"
    },
    {
     "data": {
      "image/png": "[encoded data removed]",
      "text/plain": [
       "<Figure size 432x288 with 2 Axes>"
      ]
     },
     "metadata": {
      "needs_background": "light"
     },
     "output_type": "display_data"
    }
   ],
   "source": [
    "pitch_prob_plot('FB', 'R')"
   ]
  },
  {
   "cell_type": "code",
   "execution_count": 253,
   "metadata": {},
   "outputs": [
    {
     "data": {
      "text/plain": [
       "<matplotlib.collections.PolyCollection at 0x7f985f932e80>"
      ]
     },
     "execution_count": 253,
     "metadata": {},
     "output_type": "execute_result"
    },
    {
     "data": {
      "image/png": "[encoded data removed]",
      "text/plain": [
       "<Figure size 432x288 with 2 Axes>"
      ]
     },
     "metadata": {
      "needs_background": "light"
     },
     "output_type": "display_data"
    }
   ],
   "source": [
    "pitch_prob_plot('FB', 'L')"
   ]
  },
  {
   "cell_type": "code",
   "execution_count": 272,
   "metadata": {},
   "outputs": [
    {
     "data": {
      "text/plain": [
       "<matplotlib.collections.PolyCollection at 0x7f9861a31c88>"
      ]
     },
     "execution_count": 272,
     "metadata": {},
     "output_type": "execute_result"
    },
    {
     "data": {
      "image/png": "[encoded data removed]",
      "text/plain": [
       "<Figure size 432x288 with 2 Axes>"
      ]
     },
     "metadata": {
      "needs_background": "light"
     },
     "output_type": "display_data"
    }
   ],
   "source": [
    "pitch_prob_plot('CB', 'R')"
   ]
  },
  {
   "cell_type": "code",
   "execution_count": 273,
   "metadata": {},
   "outputs": [
    {
     "data": {
      "text/plain": [
       "<matplotlib.collections.PolyCollection at 0x7f9861bd5b00>"
      ]
     },
     "execution_count": 273,
     "metadata": {},
     "output_type": "execute_result"
    },
    {
     "data": {
      "image/png": "[encoded data removed]",
      "text/plain": [
       "<Figure size 432x288 with 2 Axes>"
      ]
     },
     "metadata": {
      "needs_background": "light"
     },
     "output_type": "display_data"
    }
   ],
   "source": [
    "pitch_prob_plot('CB', 'L')"
   ]
  },
  {
   "cell_type": "code",
   "execution_count": null,
   "metadata": {},
   "outputs": [],
   "source": []
  }
 ],
 "metadata": {
  "kernelspec": {
   "display_name": "Python 3",
   "language": "python",
   "name": "python3"
  },
  "language_info": {
   "codemirror_mode": {
    "name": "ipython",
    "version": 3
   },
   "file_extension": ".py",
   "mimetype": "text/x-python",
   "name": "python",
   "nbconvert_exporter": "python",
   "pygments_lexer": "ipython3",
   "version": "3.7.3"
  }
 },
 "nbformat": 4,
 "nbformat_minor": 2
}
